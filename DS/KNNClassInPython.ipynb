{
 "cells": [
  {
   "cell_type": "code",
   "execution_count": 4,
   "metadata": {},
   "outputs": [],
   "source": [
    "import random\n",
    "import statistics\n",
    "from statistics import mode\n",
    "\n",
    "class KNN:\n",
    "\n",
    "    def __init__(self, k):\n",
    "        #set value of neighbors to consider\n",
    "        self.k = k\n",
    "\n",
    "    def fit(self, X, y):\n",
    "        # simply store the training data, features in x and ground truth label i.e. class is either 1 or 2 . \n",
    "        self.X = X\n",
    "        self.y = y\n",
    "\n",
    "    def predict(self, x):\n",
    "        # x is a list with 2 numeric values in it\n",
    "        # now compute the euclidean distance of x from each and every sample present in the training dataset\n",
    "        distances = []\n",
    "        for i in range(len(self.X)):\n",
    "            distance = self._euclidean_distance(x, self.X[i])\n",
    "            distances.append((distance, self.y[i]))\n",
    "\n",
    "        for j in range(len(distances)):\n",
    "            print(f\"Distance with , {self.X[j]}. with Ground truth label , {self.y[j]}, is {distances[j][0]}.\")\n",
    "        \n",
    "        #now sort according to the distances computed and extract the nearest k number of neighbors\n",
    "        distances.sort(key=lambda x: x[0])\n",
    "        neighbors = distances[:self.k]\n",
    "        \n",
    "        #labels of k nearest neighbors\n",
    "        print(f\"Distances and Class labels of  {self.k}-nearest neighbors are, {neighbors}\")\n",
    "\n",
    "        #now extract the class labels of the k nearest neighbors in list labels\n",
    "        labels = []\n",
    "        for neighbor in neighbors:\n",
    "            labels.append(neighbor[1])\n",
    "\n",
    "        #now find the most frequently occuring element\n",
    "        #most_common_label = max(set(labels), key=labels.count)\n",
    "        most_common_label = mode(labels)\n",
    "        return most_common_label\n",
    "\n",
    "    def _euclidean_distance(self, x1, x2):\n",
    "        sum_of_squares = 0\n",
    "        for i in range(len(x1)):\n",
    "            diff = x1[i] - x2[i]\n",
    "            sum_of_squares += diff * diff\n",
    "\n",
    "        return sum_of_squares ** 0.5\n"
   ]
  },
  {
   "cell_type": "code",
   "execution_count": 8,
   "metadata": {},
   "outputs": [
    {
     "name": "stdout",
     "output_type": "stream",
     "text": [
      "Distance with , [1, 2]. with Ground truth label , 1, is 5.830951894845301.\n",
      "Distance with , [2, 3]. with Ground truth label , 1, is 4.47213595499958.\n",
      "Distance with , [3, 4]. with Ground truth label , 1, is 3.1622776601683795.\n",
      "Distance with , [4, 5]. with Ground truth label , 0, is 2.0.\n",
      "Distance with , [5, 6]. with Ground truth label , 0, is 1.4142135623730951.\n",
      "Distances and Class labels of  5-nearest neighbors are, [(1.4142135623730951, 0), (2.0, 0), (3.1622776601683795, 1), (4.47213595499958, 1), (5.830951894845301, 1)]\n",
      "The predicted label for the test sample is  1\n"
     ]
    }
   ],
   "source": [
    "\n",
    "\n",
    "X = [[1, 70], [2, 3], [3, 4], [4, 5], [5, 6]]\n",
    "y = [1, 1, 1, 0, 0]\n",
    "\n",
    "knn = KNN(5)\n",
    "knn.fit(X, y)\n",
    "\n",
    "x = [4, 7]\n",
    "print(\"The predicted label for the test sample is \",knn.predict(x))\n",
    "\n",
    "\n"
   ]
  }
 ],
 "metadata": {
  "kernelspec": {
   "display_name": "Python 3",
   "language": "python",
   "name": "python3"
  },
  "language_info": {
   "codemirror_mode": {
    "name": "ipython",
    "version": 3
   },
   "file_extension": ".py",
   "mimetype": "text/x-python",
   "name": "python",
   "nbconvert_exporter": "python",
   "pygments_lexer": "ipython3",
   "version": "3.12.0"
  }
 },
 "nbformat": 4,
 "nbformat_minor": 5
}
